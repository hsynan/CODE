{
 "cells": [
  {
   "cell_type": "markdown",
   "id": "1fb63925-4190-488a-a10a-04fa117c7a62",
   "metadata": {},
   "source": [
    "# ERDDAP FUNCTIONALITY\n",
    "\n",
    "## Table of contents\n",
    "### [Functions](#functions)\n",
    "* [erddap_py](#erddappy)\n",
    "* [erddap_pull](#erddap_pull)\n",
    "* [create_erddap_url](#createerddapurl)\n",
    "\n",
    "\n",
    "\n",
    "# TO DO\n",
    "* tabledap --> get so you dont need to input all variables individually\n",
    "  * look into incorporating ERDDAPY here\n",
    "* incorporating other servers\n",
    "  * do we want 1 really flexible function that pulls from ERDDAP/THREDDS/etc\n",
    "  * or do we want separate functions depending on the server type? "
   ]
  },
  {
   "cell_type": "code",
   "execution_count": 1,
   "id": "5a2b48cb-da80-4c22-a3c1-ef5afcedb2c5",
   "metadata": {},
   "outputs": [],
   "source": [
    "import xarray as xr\n",
    "import requests\n",
    "import pandas as pd\n",
    "import json\n",
    "import erddapy\n",
    "from erddapy import ERDDAP"
   ]
  },
  {
   "cell_type": "markdown",
   "id": "192e8368-5aa1-4366-8955-a1ab3dc0d948",
   "metadata": {},
   "source": [
    "# <font color='black'>Functions</font> <a class=\"anchor\" id=\"erddappy\"></a>"
   ]
  },
  {
   "cell_type": "markdown",
   "id": "e8872281-0711-42bb-a0b8-1d2821bf325a",
   "metadata": {},
   "source": [
    "### <font color='blue'>```erddap_py```</font> <a class=\"anchor\" id=\"createerddapurl\"></a>\n",
    "**TO DO:**\n",
    "* add functionality for dataset that dont have time explicitly named (ie ecomon--> datetimeUTC)\n",
    "\n",
    "**Purpose:** \n",
    "* use ERDDAPY package to search, subset, and stream from ERDDAP\n",
    "* supports griddap and tabledap\n",
    "\n",
    "**Arguments:** \n",
    "* <u>protocol</u> (string): either ```'tabledap'``` if using point data, or ```'griddap'``` if using gridded data\n",
    "* <u>datasetID</u> (string): dataset ID from ERDDAP\n",
    "* <u>latmin</u> (int/float) *optional*: minimum latitude for bounding box. If not explicitly defined, default is to subset to the NWA)\n",
    "* <u>latmax</u> (int/float) *optional*: maxmimum latitude for bounding box. If not explicitly defined, default is to subset to the NWA)\n",
    "* <u>lonmin</u> (int/float) *optional*: minimum longitude for bounding box. If not explicitly defined, default is to subset to the NWA)\n",
    "* <u>lonmax</u> (int/float) *optional*: maximum longitude for bounding box. If not explicitly defined, default is to subset to the NWA)\n",
    "* <u>date_end</u> (string): end date for data slice. Should be formatted as ```'yyyy-mm-dd'```\n",
    "* <u>date_start</u> (string): start date for data slice. Should be formatted as ```'yyyy-mm-dd'```\n",
    "* <u>base_url</u> (string) *optional*: beginning part of erddap url. Defaults to ```'https://comet.nefsc.noaa.gov/'```\n",
    "\n",
    "**Sample Usage:** <br>\n",
    "### Tabledap\n",
    "```\n",
    "erddap_py('tabledap','cfrf_temps','2020-01-01','2020-12-31')\n",
    "```\n",
    "### Griddap\n",
    "```\n",
    "erddap_py('griddap','noaacwBLENDEDsstDLDaily','2020-07-10','2020-07-12',baseurl='https://coastwatch.noaa.gov/erddap')\n",
    "```\n",
    "\n",
    "**History:** <br>\n",
    ">* 2/27/25 function initialized"
   ]
  },
  {
   "cell_type": "code",
   "execution_count": 6,
   "id": "bec82a3c-3f93-48af-bd65-9d433908eeb9",
   "metadata": {},
   "outputs": [],
   "source": [
    "def erddap_py(protocol,datasetID, date_start,date_end,latmin=34,latmax=46,lonmin=-77,lonmax=-63,baseurl=\"https://comet.nefsc.noaa.gov/erddap\"):\n",
    "    e = ERDDAP(\n",
    "    server=baseurl,\n",
    "    protocol=protocol,)\n",
    "\n",
    "    constraints = {\n",
    "    \"time>=\": date_start+\"T00:00:00Z\",\n",
    "    \"time<=\": date_end+\"T00:00:00Z\",\n",
    "    \"latitude>=\": latmin,\n",
    "    \"latitude<=\": latmax,\n",
    "    \"longitude>=\": lonmin,\n",
    "    \"longitude<=\": lonmax,}\n",
    "    e.dataset_id = datasetID\n",
    "    if protocol=='griddap':\n",
    "        e.griddap_initialize()\n",
    "        e.constraints.update(constraints)\n",
    "        data = e.to_xarray()\n",
    "        #e.variables=e.variables[:2]\n",
    "    elif protocol=='tabledap':\n",
    "        e.constraints = constraints\n",
    "        data = e.to_pandas()\n",
    "    return data\n",
    "        "
   ]
  },
  {
   "cell_type": "markdown",
   "id": "c14a1f93-f0a9-47bf-8b34-6acd53da3361",
   "metadata": {},
   "source": [
    "### <font color='blue'>```erddap_pull```</font> <a class=\"anchor\" id=\"erddappull\"></a>\n",
    "**Purpose:** \n",
    "* lazy-load data from ERDDAP url \n",
    "\n",
    "**Arguments:** \n",
    "* <u>file_type</u> (string): file type. either ```'nc'``` or ```'csv'```\n",
    "* <u>url</u> (string): erddap url. Either directly pulled from erddap's website or created using ```creatae_erddap_url```\n",
    "\n",
    "**Sample Usage:** <br>\n",
    "```\n",
    "data = erddap_pull('nc',url)\n",
    "```\n",
    "\n",
    "**History:** <br>\n",
    ">* 2/26/25 function initialized"
   ]
  },
  {
   "cell_type": "code",
   "execution_count": null,
   "id": "122dcbac-02a3-4e26-bae4-7dd083c37946",
   "metadata": {},
   "outputs": [],
   "source": [
    "import requests\n",
    "def erddap_pull(file_type, url):\n",
    "    if file_type=='nc':\n",
    "        url = requests.get(url, verify=False).content\n",
    "        data=xr.open_dataset(url)\n",
    "    elif file_type =='csv':\n",
    "        data=pd.read_csv(url)\n",
    "    return data"
   ]
  },
  {
   "cell_type": "markdown",
   "id": "5c3e6af4-835e-4de8-a5c9-463768599f0d",
   "metadata": {},
   "source": [
    "### <font color='blue'>```create_erddap_url```</font> <a class=\"anchor\" id=\"createerddapurl\"></a>\n",
    "## THIS IS OUTDATED PLZ IGNORE\n",
    "**Purpose:** \n",
    "* Create an ERDDAP url for subsetting a dataset\n",
    "* NOTE: must have the variable names that you want to grab from the dataset\n",
    "\n",
    "**Arguments:** \n",
    "* <u>dataID</u> (string): dataset ID from ERDDAP\n",
    "* <u>file_type</u> (string): either ```'nc'``` or ```'csv'```\n",
    "* <u>daptype</u> (string): either ```'tabledap'``` if using point data, or ```'griddap'``` if using gridded data\n",
    "* <u>var</u> (list of strings): list of variables from dataset\n",
    "* <u>latmin</u> (int/float) *optional*: minimum latitude for bounding box. If not explicitly defined, default is to subset to the NWA)\n",
    "* <u>latmax</u> (int/float) *optional*: maxmimum latitude for bounding box. If not explicitly defined, default is to subset to the NWA)\n",
    "* <u>lonmin</u> (int/float) *optional*: minimum longitude for bounding box. If not explicitly defined, default is to subset to the NWA)\n",
    "* <u>lonmax</u> (int/float) *optional*: maximum longitude for bounding box. If not explicitly defined, default is to subset to the NWA)\n",
    "* <u>date_end</u> (string): end date for data slice. Should be formatted as ```'yyyy-mm-dd'```\n",
    "* <u>date_start</u> (string): start date for data slice. Should be formatted as ```'yyyy-mm-dd'```\n",
    "* <u>base_url</u> (string) *optional*: beginning part of erddap url. Defaults to ```'https://comet.nefsc.noaa.gov/'```\n",
    "\n",
    "**Sample Usage:** <br>\n",
    "### Tabledap\n",
    "```\n",
    "url =create_erddap_url(dataID='ocdbs_v_erddap1', file_type='csv', daptype='tabledap', var=['sea_surface_temperature'], date_end='2024-06-01', date_start='2024-01-31')\n",
    "```\n",
    "### Griddap\n",
    "```\n",
    "url =create_erddap_url(dataID='noaa_coastwatch_acspo_v2_reanalysis', file_type='nc', daptype='griddap', var=['sea_surface_temperature','sst_dtime'], date_end='2024-01-01', date_start='2024-01-31')\n",
    "erddap_pull('nc',url)\n",
    "```\n",
    "\n",
    "**History:** <br>\n",
    ">* 2/26/25 function initialized"
   ]
  },
  {
   "cell_type": "code",
   "execution_count": 1,
   "id": "52148d0e-a0a2-4b32-8a4c-e1050b2c5a68",
   "metadata": {},
   "outputs": [],
   "source": [
    "def create_erddap_url(dataID, file_type, daptype, var, latmin=35,latmax=46, lonmin=-76, lonmax=-63, date_end=None, date_start=None, base_url='https://comet.nefsc.noaa.gov/'):\n",
    "    base = base_url + 'erddap/' + daptype + '/'+ dataID + '.' + file_type +'?'\n",
    "    if daptype=='griddap':\n",
    "        varz= []\n",
    "        for v in var: \n",
    "            varz.append(v + '%5B(' + date_start+'T00:00:00Z):1:('+date_end+'T00:00:00Z)%5D%5B(' + str(latmin)+'):1:('+str(latmax)+')%5D%5B('+str(lonmin)+'):1:('+str(lonmax)+')%5D')\n",
    "        url =base+ \",\".join(varz)\n",
    "    elif daptype=='tabledap':\n",
    "        varz=[]\n",
    "        for v in var:\n",
    "            varz.append(v)\n",
    "            if v.__contains__('lat'):\n",
    "                latvar=v\n",
    "            elif v.__contains__('lon'):\n",
    "                lonvar=v\n",
    "            elif v.__contains__('time') or v.__contains__('TIME'):\n",
    "                timevar=v\n",
    "        #var.remove(timevar)\n",
    "        #for v in var:\n",
    "        #    varz.append(v)#+'%2C')\n",
    "        url=base+ \"%2C\".join(varz)+'&'+timevar+'%3E='+date_start+'&'+timevar+'%3C='+date_end+'&'+latvar+'%3C='+str(latmin)+'&'+latvar+'%3C='+str(latmax)+'&'+lonvar+'%3C='+str(lonmin)+'&'+lonvar+'%3C='+str(lonmax)        \n",
    "    return url"
   ]
  },
  {
   "cell_type": "code",
   "execution_count": null,
   "id": "c6521024-0ccb-4fa9-9a58-de5ec269097e",
   "metadata": {},
   "outputs": [],
   "source": []
  }
 ],
 "metadata": {
  "kernelspec": {
   "display_name": "Python 3 (ipykernel)",
   "language": "python",
   "name": "python3"
  },
  "language_info": {
   "codemirror_mode": {
    "name": "ipython",
    "version": 3
   },
   "file_extension": ".py",
   "mimetype": "text/x-python",
   "name": "python",
   "nbconvert_exporter": "python",
   "pygments_lexer": "ipython3",
   "version": "3.12.7"
  }
 },
 "nbformat": 4,
 "nbformat_minor": 5
}
