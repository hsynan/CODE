{
 "cells": [
  {
   "cell_type": "markdown",
   "id": "78bad34e-593e-4be2-9428-b79b2028b9ec",
   "metadata": {},
   "source": [
    "## Sample xarray_regridd"
   ]
  },
  {
   "cell_type": "code",
   "execution_count": 9,
   "id": "63d05a09-89d2-4223-b687-4799f91fcba5",
   "metadata": {},
   "outputs": [],
   "source": [
    "#import libraries\n",
    "import xarray_regrid\n",
    "import xarray as xr\n",
    "import pandas as pd\n",
    "import os\n",
    "\n",
    "\n",
    "#set data directory\n",
    "data_dir=r'C:\\Users\\haley.synan\\Documents\\SEASCAPES\\DATA'"
   ]
  },
  {
   "cell_type": "code",
   "execution_count": 10,
   "id": "b8c8d1fa-e985-42f8-9e12-844723257172",
   "metadata": {},
   "outputs": [],
   "source": [
    "def downloaddata(start_date, end_date, data_name): \n",
    "    if data_name == 'occci': \n",
    "        file = data_dir_fold + '/DD8_'+start_date.split('-')[0]+start_date.split('-')[1]+start_date.split('-')[2]+'_'+end_date.split('-')[0]+end_date.split('-')[1]+end_date.split('-')[2]+'.nc'\n",
    "        url=''.join(['https://comet.nefsc.noaa.gov/erddap/griddap/occci_v6_daily_1km.nc?chlor_a%5B('+start_date+'T00:00:00Z):1:('+end_date+'T00:00:00Z)%5D%5B(34.40918):1:(46.362305)%5D%5B(-77.681645):1:(-63.585942)%5D'])\n",
    "    \n",
    "    elif data_name == 'seascapes': \n",
    "        file = data_dir_fold + '/DD8_'+start_date.split('-')[0]+start_date.split('-')[1]+start_date.split('-')[2]+'_'+end_date.split('-')[0]+end_date.split('-')[1]+end_date.split('-')[2]+'.nc'\n",
    "        url = ''.join(['https://cwcgom.aoml.noaa.gov/erddap/griddap/noaa_aoml_seascapes_8day.nc?',\n",
    "               'CLASS',\n",
    "               '%5B(' + start_date+'T12:00:00Z):1:('+end_date+'T12:00:00Z)%5D',\n",
    "               '%5B(46.362305):1:(34.40918)%5D%5B(-63.585942):1:(-77.681645)%5D,P%5B('+start_date+'T12:00:00Z):1:('+end_date+'T12:00:00Z)%5D%5B(46.362305):1:(34.40918)%5D%5B(-63.585942):1:(-77.681645)%5D']) \n",
    "    elif data_name == 'sst':\n",
    "        file = data_dir_fold + '/DD1_'+start_date.split('-')[0]+start_date.split('-')[1]+start_date.split('-')[2]+'_'+end_date.split('-')[0]+end_date.split('-')[1]+end_date.split('-')[2]+'.nc'\n",
    "        url = ''.join(['https://coastwatch.noaa.gov/erddap/griddap/noaacwLEOACSPOSSTL3SCDaily.nc?sea_surface_temperature%5B('+start_date+'T12:00:00Z):1:('+end_date+'T12:00:00Z)%5D%5B(34.40918):1:(46.362305)%5D%5B(-63.585942):1:(-77.681645)%5D'\n",
    "               ])\n",
    "\n",
    "    elif data_name == 'occci_monthly':\n",
    "         file = data_dir_fold + '/DD1_'+start_date.split('-')[0]+start_date.split('-')[1]+start_date.split('-')[2]+'_'+end_date.split('-')[0]+end_date.split('-')[1]+end_date.split('-')[2]+'.nc'\n",
    "         url = ''.join(['https://comet.nefsc.noaa.gov/erddap/griddap/occci_V6_monthly_4km.nc?chlor_a%5B('+start_date+'T00:00:00Z):1:('+end_date+'T00:00:00Z)%5D%5B(34.40918):1:(46.362305)%5D%5B(-77.681645):1:(-63.585942)%5D'\n",
    "               ])\n",
    "\n",
    "        \n",
    "    try:\n",
    "        data = xr.open_dataset(file)\n",
    "    except FileNotFoundError: \n",
    "        urllib.request.urlretrieve(url, file) #download data\n",
    "        data = xr.open_dataset(file, decode_cf=True) #open nc file \n",
    "     \n",
    "    return data"
   ]
  },
  {
   "cell_type": "code",
   "execution_count": 11,
   "id": "b27ab573-8373-4b8f-9b2a-2351cb8a1a21",
   "metadata": {},
   "outputs": [],
   "source": [
    "#set dates of data \n",
    "start_date = '2001-07-01' #(yyyy-mm-dd format)\n",
    "end_date = '2001-07-01'"
   ]
  },
  {
   "cell_type": "code",
   "execution_count": 12,
   "id": "095facb7-4e09-46c6-8170-2ee7752a5099",
   "metadata": {},
   "outputs": [
    {
     "name": "stderr",
     "output_type": "stream",
     "text": [
      "C:\\Users\\haley.synan\\AppData\\Local\\anaconda3\\Lib\\site-packages\\paramiko\\transport.py:219: CryptographyDeprecationWarning: Blowfish has been deprecated and will be removed in a future release\n",
      "  \"class\": algorithms.Blowfish,\n"
     ]
    }
   ],
   "source": [
    "#SST data \n",
    "os.chdir(data_dir) #cd to data directory \n",
    "data_dir_fold = data_dir+'/SST' #path for new folder \n",
    "sst = downloaddata(start_date, end_date, 'sst')"
   ]
  },
  {
   "cell_type": "code",
   "execution_count": 13,
   "id": "83049efd-59c9-4148-8bea-c1a6336f03c7",
   "metadata": {},
   "outputs": [],
   "source": [
    "#OCCCI data\n",
    "os.chdir(data_dir) #cd to data directory \n",
    "data_dir_fold = data_dir+'/Chlorophyll' #path for new folder \n",
    "chla = downloaddata(start_date, end_date, 'occci')"
   ]
  },
  {
   "cell_type": "code",
   "execution_count": 14,
   "id": "b5c33a2f-776d-4b1e-925c-546a840cdb0d",
   "metadata": {},
   "outputs": [],
   "source": [
    "import xarray_regrid\n",
    "sst = sst.regrid.linear(chla) #regrid data "
   ]
  },
  {
   "cell_type": "code",
   "execution_count": null,
   "id": "addf0824-5f91-426e-bb0f-ea5967b1c6d1",
   "metadata": {},
   "outputs": [],
   "source": []
  },
  {
   "cell_type": "code",
   "execution_count": null,
   "id": "67c5def2-32ea-4b7d-94e6-16b1c465b0b6",
   "metadata": {},
   "outputs": [],
   "source": []
  }
 ],
 "metadata": {
  "kernelspec": {
   "display_name": "Python 3 (ipykernel)",
   "language": "python",
   "name": "python3"
  },
  "language_info": {
   "codemirror_mode": {
    "name": "ipython",
    "version": 3
   },
   "file_extension": ".py",
   "mimetype": "text/x-python",
   "name": "python",
   "nbconvert_exporter": "python",
   "pygments_lexer": "ipython3",
   "version": "3.11.7"
  }
 },
 "nbformat": 4,
 "nbformat_minor": 5
}
