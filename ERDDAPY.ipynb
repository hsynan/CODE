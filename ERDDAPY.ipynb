{
 "cells": [
  {
   "cell_type": "markdown",
   "id": "f6bb4177-6bfd-43cd-b003-094b7cd5846e",
   "metadata": {},
   "source": [
    "## ERDDAPY\n",
    "* Code taken from [erddapy griddap example](https://github.com/ioos/erddapy/blob/main/notebooks/01a-griddap.ipynb)\n",
    "* Example uses [PacIOOS ERDDAP](https://pae-paha.pacioos.hawaii.edu/erddap/info/index.html?page=1&itemsPerPage=1000) and [etopo5](https://pae-paha.pacioos.hawaii.edu/erddap/griddap/etopo5.html) as the dataset\n",
    "  * **NOTE:** the example code given in the github dataset works"
   ]
  },
  {
   "cell_type": "code",
   "execution_count": 1,
   "id": "cc4234fc-6211-4240-8d8b-9a9269c57273",
   "metadata": {},
   "outputs": [],
   "source": [
    "from erddapy import ERDDAP\n",
    "\n",
    "e = ERDDAP(\n",
    "    server=\"https://comet.nefsc.noaa.gov/erddap\",\n",
    "    protocol=\"griddap\",\n",
    ")\n",
    "\n",
    "e.dataset_id = \"occci_v6_daily_1km\""
   ]
  },
  {
   "cell_type": "code",
   "execution_count": 2,
   "id": "f9179813-b814-43eb-9316-4071a718ae80",
   "metadata": {},
   "outputs": [
    {
     "name": "stdout",
     "output_type": "stream",
     "text": [
      "variables in this dataset:\n",
      "\n",
      "['MERIS_nobs', 'MODISA_nobs', 'OLCI_A_nobs', 'OLCI_B_nobs', 'Rrs_412', 'Rrs_443', 'Rrs_490', 'Rrs_510', 'Rrs_560', 'Rrs_665', 'SeaWiFS_nobs', 'VIIRS_nobs', 'adg_443', 'aph_443', 'atot_443', 'chlor_a', 'kd_490', 'total_nobs', 'water_class1', 'water_class10', 'water_class11', 'water_class12', 'water_class13', 'water_class14', 'water_class2', 'water_class3', 'water_class4', 'water_class5', 'water_class6', 'water_class7', 'water_class8', 'water_class9']\n",
      "\n",
      "constraints of this dataset:\n",
      "\n",
      "{\n",
      " \"time>=\": \"2025-01-24T00:00:00Z\",\n",
      " \"time<=\": \"2025-01-24T00:00:00Z\",\n",
      " \"time_step\": 1,\n",
      " \"latitude>=\": 89.99479166666667,\n",
      " \"latitude<=\": -89.99479166666666,\n",
      " \"latitude_step\": 1,\n",
      " \"longitude>=\": -179.99479166666666,\n",
      " \"longitude<=\": 179.99479166666663,\n",
      " \"longitude_step\": 1\n",
      "}\n",
      "Downloading ['chlor_a'].\n"
     ]
    }
   ],
   "source": [
    "import json\n",
    "\n",
    "e.griddap_initialize()\n",
    "\n",
    "print(f\"variables in this dataset:\\n\\n{e.variables}\")\n",
    "constraints = json.dumps(e.constraints, indent=1)\n",
    "print(f\"\\nconstraints of this dataset:\\n\\n{constraints}\")\n",
    "\n",
    "e.variables = [e.variables[15]]\n",
    "\n",
    "print(f\"Downloading {e.variables}.\")"
   ]
  },
  {
   "cell_type": "code",
   "execution_count": 3,
   "id": "174e1bf7-9586-4399-9364-3742e0e57a87",
   "metadata": {},
   "outputs": [
    {
     "data": {
      "text/plain": [
       "{'time>=': '2024-07-01T00:00:00Z',\n",
       " 'time<=': '2024-07-10T00:00:00Z',\n",
       " 'time_step': 1,\n",
       " 'latitude>=': 34,\n",
       " 'latitude<=': 46,\n",
       " 'latitude_step': 1,\n",
       " 'longitude>=': -77,\n",
       " 'longitude<=': -63,\n",
       " 'longitude_step': 1}"
      ]
     },
     "execution_count": 3,
     "metadata": {},
     "output_type": "execute_result"
    }
   ],
   "source": [
    "import pandas as pd\n",
    "def bounds2contraints(bounds):\n",
    "    return {\n",
    "        \"time>=\": bounds.datemin.squeeze(),\n",
    "        \"time<=\": bounds.datemax.squeeze(),\n",
    "        \"longitude>=\": bounds.miny.squeeze(),\n",
    "        \"longitude<=\": bounds.maxy.squeeze(),\n",
    "        \"latitude>=\": bounds.minx.squeeze(),\n",
    "        \"latitude<=\": bounds.maxx.squeeze(),\n",
    "    }\n",
    "\n",
    "\n",
    "e.constraints.update(bounds2contraints(pd.DataFrame({'datemin':[\"2024-07-01T00:00:00Z\"],'datemax':[\"2024-07-10T00:00:00Z\"],'minx':[34],'miny':[-77],'maxx':[46],'maxy':[-63]})))\n",
    "e.constraints"
   ]
  },
  {
   "cell_type": "code",
   "execution_count": 4,
   "id": "3dfe15a5-05e8-4152-a9ea-3877c95da665",
   "metadata": {},
   "outputs": [
    {
     "ename": "HTTPError",
     "evalue": "<!doctype html><html lang=\"en\"><head><title>HTTP Status 400 – Bad Request</title><style type=\"text/css\">body {font-family:Tahoma,Arial,sans-serif;} h1, h2, h3, b {color:white;background-color:#525D76;} h1 {font-size:22px;} h2 {font-size:16px;} h3 {font-size:14px;} p {font-size:12px;} a {color:black;} .line {height:1px;background-color:#525D76;border:none;}</style></head><body><h1>HTTP Status 400 – Bad Request</h1><hr class=\"line\" /><p><b>Type</b> Exception Report</p><p><b>Message</b> Invalid character found in the request target [&#47;erddap&#47;griddap&#47;occci_v6_daily_1km.nc?chlor_a[(2024-07-01T00:00:00Z):1:(2024-07-10T00:00:00Z)][(34):1:(46)][(-77):1:(-63)] ]. The valid characters are defined in RFC 7230 and RFC 3986</p><p><b>Description</b> The server cannot or will not process the request due to something that is perceived to be a client error (e.g., malformed request syntax, invalid request message framing, or deceptive request routing).</p><p><b>Exception</b></p><pre>java.lang.IllegalArgumentException: Invalid character found in the request target [&#47;erddap&#47;griddap&#47;occci_v6_daily_1km.nc?chlor_a[(2024-07-01T00:00:00Z):1:(2024-07-10T00:00:00Z)][(34):1:(46)][(-77):1:(-63)] ]. The valid characters are defined in RFC 7230 and RFC 3986\n\torg.apache.coyote.http11.Http11InputBuffer.parseRequestLine(Http11InputBuffer.java:470)\n\torg.apache.coyote.http11.Http11Processor.service(Http11Processor.java:268)\n\torg.apache.coyote.AbstractProcessorLight.process(AbstractProcessorLight.java:63)\n\torg.apache.coyote.AbstractProtocol$ConnectionHandler.process(AbstractProtocol.java:905)\n\torg.apache.tomcat.util.net.NioEndpoint$SocketProcessor.doRun(NioEndpoint.java:1746)\n\torg.apache.tomcat.util.net.SocketProcessorBase.run(SocketProcessorBase.java:52)\n\torg.apache.tomcat.util.threads.ThreadPoolExecutor.runWorker(ThreadPoolExecutor.java:1148)\n\torg.apache.tomcat.util.threads.ThreadPoolExecutor$Worker.run(ThreadPoolExecutor.java:636)\n\torg.apache.tomcat.util.threads.TaskThread$WrappingRunnable.run(TaskThread.java:63)\n\tjava.base&#47;java.lang.Thread.run(Thread.java:1583)\n</pre><p><b>Note</b> The full stack trace of the root cause is available in the server logs.</p><hr class=\"line\" /><h3>Apache Tomcat/11.0.2</h3></body></html>",
     "output_type": "error",
     "traceback": [
      "\u001b[1;31m---------------------------------------------------------------------------\u001b[0m",
      "\u001b[1;31mHTTPStatusError\u001b[0m                           Traceback (most recent call last)",
      "File \u001b[1;32m~\\AppData\\Local\\anaconda3\\Lib\\site-packages\\erddapy\\core\\url.py:24\u001b[0m, in \u001b[0;36m_urlopen\u001b[1;34m(url, auth, **kwargs)\u001b[0m\n\u001b[0;32m     23\u001b[0m \u001b[38;5;28;01mtry\u001b[39;00m:\n\u001b[1;32m---> 24\u001b[0m     \u001b[43mresponse\u001b[49m\u001b[38;5;241;43m.\u001b[39;49m\u001b[43mraise_for_status\u001b[49m\u001b[43m(\u001b[49m\u001b[43m)\u001b[49m\n\u001b[0;32m     25\u001b[0m \u001b[38;5;28;01mexcept\u001b[39;00m httpx\u001b[38;5;241m.\u001b[39mHTTPError \u001b[38;5;28;01mas\u001b[39;00m err:\n",
      "File \u001b[1;32m~\\AppData\\Local\\anaconda3\\Lib\\site-packages\\httpx\\_models.py:761\u001b[0m, in \u001b[0;36mResponse.raise_for_status\u001b[1;34m(self)\u001b[0m\n\u001b[0;32m    760\u001b[0m message \u001b[38;5;241m=\u001b[39m message\u001b[38;5;241m.\u001b[39mformat(\u001b[38;5;28mself\u001b[39m, error_type\u001b[38;5;241m=\u001b[39merror_type)\n\u001b[1;32m--> 761\u001b[0m \u001b[38;5;28;01mraise\u001b[39;00m HTTPStatusError(message, request\u001b[38;5;241m=\u001b[39mrequest, response\u001b[38;5;241m=\u001b[39m\u001b[38;5;28mself\u001b[39m)\n",
      "\u001b[1;31mHTTPStatusError\u001b[0m: Client error '400 Bad Request' for url 'https://comet.nefsc.noaa.gov/erddap/griddap/occci_v6_daily_1km.nc?chlor_a[(2024-07-01T00:00:00Z):1:(2024-07-10T00:00:00Z)][(34):1:(46)][(-77):1:(-63)]'\nFor more information check: https://developer.mozilla.org/en-US/docs/Web/HTTP/Status/400",
      "\nThe above exception was the direct cause of the following exception:\n",
      "\u001b[1;31mHTTPError\u001b[0m                                 Traceback (most recent call last)",
      "Cell \u001b[1;32mIn[4], line 1\u001b[0m\n\u001b[1;32m----> 1\u001b[0m ds \u001b[38;5;241m=\u001b[39m \u001b[43me\u001b[49m\u001b[38;5;241;43m.\u001b[39;49m\u001b[43mto_xarray\u001b[49m\u001b[43m(\u001b[49m\u001b[43m)\u001b[49m\n",
      "File \u001b[1;32m~\\AppData\\Local\\anaconda3\\Lib\\site-packages\\erddapy\\erddapy.py:391\u001b[0m, in \u001b[0;36mERDDAP.to_xarray\u001b[1;34m(self, requests_kwargs, **kw)\u001b[0m\n\u001b[0;32m    389\u001b[0m \u001b[38;5;28;01melse\u001b[39;00m:\n\u001b[0;32m    390\u001b[0m     requests_kwargs \u001b[38;5;241m=\u001b[39m {\u001b[38;5;124m\"\u001b[39m\u001b[38;5;124mauth\u001b[39m\u001b[38;5;124m\"\u001b[39m: \u001b[38;5;28mself\u001b[39m\u001b[38;5;241m.\u001b[39mauth}\n\u001b[1;32m--> 391\u001b[0m \u001b[38;5;28;01mreturn\u001b[39;00m \u001b[43mto_xarray\u001b[49m\u001b[43m(\u001b[49m\u001b[43murl\u001b[49m\u001b[43m,\u001b[49m\u001b[43m \u001b[49m\u001b[43mresponse\u001b[49m\u001b[43m,\u001b[49m\u001b[43m \u001b[49m\u001b[43mrequests_kwargs\u001b[49m\u001b[43m,\u001b[49m\u001b[43m \u001b[49m\u001b[43mxarray_kwargs\u001b[49m\u001b[38;5;241;43m=\u001b[39;49m\u001b[38;5;28;43mdict\u001b[39;49m\u001b[43m(\u001b[49m\u001b[38;5;241;43m*\u001b[39;49m\u001b[38;5;241;43m*\u001b[39;49m\u001b[43mkw\u001b[49m\u001b[43m)\u001b[49m\u001b[43m)\u001b[49m\n",
      "File \u001b[1;32m~\\AppData\\Local\\anaconda3\\Lib\\site-packages\\erddapy\\core\\interfaces.py:76\u001b[0m, in \u001b[0;36mto_xarray\u001b[1;34m(url, response, requests_kwargs, xarray_kwargs)\u001b[0m\n\u001b[0;32m     74\u001b[0m     \u001b[38;5;28;01mreturn\u001b[39;00m xr\u001b[38;5;241m.\u001b[39mopen_dataset(url, \u001b[38;5;241m*\u001b[39m\u001b[38;5;241m*\u001b[39m(xarray_kwargs \u001b[38;5;129;01mor\u001b[39;00m {}))\n\u001b[0;32m     75\u001b[0m \u001b[38;5;28;01melse\u001b[39;00m:\n\u001b[1;32m---> 76\u001b[0m     nc \u001b[38;5;241m=\u001b[39m \u001b[43m_nc_dataset\u001b[49m\u001b[43m(\u001b[49m\u001b[43murl\u001b[49m\u001b[43m,\u001b[49m\u001b[43m \u001b[49m\u001b[43mrequests_kwargs\u001b[49m\u001b[43m)\u001b[49m\n\u001b[0;32m     77\u001b[0m     \u001b[38;5;28;01mreturn\u001b[39;00m xr\u001b[38;5;241m.\u001b[39mopen_dataset(\n\u001b[0;32m     78\u001b[0m         xr\u001b[38;5;241m.\u001b[39mbackends\u001b[38;5;241m.\u001b[39mNetCDF4DataStore(nc),\n\u001b[0;32m     79\u001b[0m         \u001b[38;5;241m*\u001b[39m\u001b[38;5;241m*\u001b[39m(xarray_kwargs \u001b[38;5;129;01mor\u001b[39;00m {}),\n\u001b[0;32m     80\u001b[0m     )\n",
      "File \u001b[1;32m~\\AppData\\Local\\anaconda3\\Lib\\site-packages\\erddapy\\core\\netcdf.py:16\u001b[0m, in \u001b[0;36m_nc_dataset\u001b[1;34m(url, requests_kwargs)\u001b[0m\n\u001b[0;32m     13\u001b[0m \u001b[38;5;250m\u001b[39m\u001b[38;5;124;03m\"\"\"Return a netCDF4-python Dataset from memory and fallbacks to disk if that fails.\"\"\"\u001b[39;00m\n\u001b[0;32m     14\u001b[0m \u001b[38;5;28;01mfrom\u001b[39;00m \u001b[38;5;21;01mnetCDF4\u001b[39;00m \u001b[38;5;28;01mimport\u001b[39;00m Dataset\n\u001b[1;32m---> 16\u001b[0m data \u001b[38;5;241m=\u001b[39m \u001b[43murlopen\u001b[49m\u001b[43m(\u001b[49m\u001b[43murl\u001b[49m\u001b[43m,\u001b[49m\u001b[43m \u001b[49m\u001b[43mrequests_kwargs\u001b[49m\u001b[43m)\u001b[49m\n\u001b[0;32m     17\u001b[0m \u001b[38;5;28;01mtry\u001b[39;00m:\n\u001b[0;32m     18\u001b[0m     \u001b[38;5;28;01mreturn\u001b[39;00m Dataset(Path(urlparse(url)\u001b[38;5;241m.\u001b[39mpath)\u001b[38;5;241m.\u001b[39mname, memory\u001b[38;5;241m=\u001b[39mdata\u001b[38;5;241m.\u001b[39mread())\n",
      "File \u001b[1;32m~\\AppData\\Local\\anaconda3\\Lib\\site-packages\\erddapy\\core\\url.py:42\u001b[0m, in \u001b[0;36murlopen\u001b[1;34m(url, requests_kwargs)\u001b[0m\n\u001b[0;32m     40\u001b[0m \u001b[38;5;28;01mif\u001b[39;00m requests_kwargs \u001b[38;5;129;01mis\u001b[39;00m \u001b[38;5;28;01mNone\u001b[39;00m:\n\u001b[0;32m     41\u001b[0m     requests_kwargs \u001b[38;5;241m=\u001b[39m {}\n\u001b[1;32m---> 42\u001b[0m data \u001b[38;5;241m=\u001b[39m \u001b[43m_urlopen\u001b[49m\u001b[43m(\u001b[49m\u001b[43murl\u001b[49m\u001b[43m,\u001b[49m\u001b[43m \u001b[49m\u001b[38;5;241;43m*\u001b[39;49m\u001b[38;5;241;43m*\u001b[39;49m\u001b[43mrequests_kwargs\u001b[49m\u001b[43m)\u001b[49m  \u001b[38;5;66;03m# type: ignore\u001b[39;00m\n\u001b[0;32m     43\u001b[0m data\u001b[38;5;241m.\u001b[39mseek(\u001b[38;5;241m0\u001b[39m)\n\u001b[0;32m     44\u001b[0m \u001b[38;5;28;01mreturn\u001b[39;00m data\n",
      "File \u001b[1;32m~\\AppData\\Local\\anaconda3\\Lib\\site-packages\\erddapy\\core\\url.py:26\u001b[0m, in \u001b[0;36m_urlopen\u001b[1;34m(url, auth, **kwargs)\u001b[0m\n\u001b[0;32m     24\u001b[0m     response\u001b[38;5;241m.\u001b[39mraise_for_status()\n\u001b[0;32m     25\u001b[0m \u001b[38;5;28;01mexcept\u001b[39;00m httpx\u001b[38;5;241m.\u001b[39mHTTPError \u001b[38;5;28;01mas\u001b[39;00m err:\n\u001b[1;32m---> 26\u001b[0m     \u001b[38;5;28;01mraise\u001b[39;00m httpx\u001b[38;5;241m.\u001b[39mHTTPError(\u001b[38;5;124mf\u001b[39m\u001b[38;5;124m\"\u001b[39m\u001b[38;5;132;01m{\u001b[39;00mresponse\u001b[38;5;241m.\u001b[39mcontent\u001b[38;5;241m.\u001b[39mdecode()\u001b[38;5;132;01m}\u001b[39;00m\u001b[38;5;124m\"\u001b[39m) \u001b[38;5;28;01mfrom\u001b[39;00m \u001b[38;5;21;01merr\u001b[39;00m\n\u001b[0;32m     27\u001b[0m \u001b[38;5;28;01mreturn\u001b[39;00m io\u001b[38;5;241m.\u001b[39mBytesIO(response\u001b[38;5;241m.\u001b[39mcontent)\n",
      "\u001b[1;31mHTTPError\u001b[0m: <!doctype html><html lang=\"en\"><head><title>HTTP Status 400 – Bad Request</title><style type=\"text/css\">body {font-family:Tahoma,Arial,sans-serif;} h1, h2, h3, b {color:white;background-color:#525D76;} h1 {font-size:22px;} h2 {font-size:16px;} h3 {font-size:14px;} p {font-size:12px;} a {color:black;} .line {height:1px;background-color:#525D76;border:none;}</style></head><body><h1>HTTP Status 400 – Bad Request</h1><hr class=\"line\" /><p><b>Type</b> Exception Report</p><p><b>Message</b> Invalid character found in the request target [&#47;erddap&#47;griddap&#47;occci_v6_daily_1km.nc?chlor_a[(2024-07-01T00:00:00Z):1:(2024-07-10T00:00:00Z)][(34):1:(46)][(-77):1:(-63)] ]. The valid characters are defined in RFC 7230 and RFC 3986</p><p><b>Description</b> The server cannot or will not process the request due to something that is perceived to be a client error (e.g., malformed request syntax, invalid request message framing, or deceptive request routing).</p><p><b>Exception</b></p><pre>java.lang.IllegalArgumentException: Invalid character found in the request target [&#47;erddap&#47;griddap&#47;occci_v6_daily_1km.nc?chlor_a[(2024-07-01T00:00:00Z):1:(2024-07-10T00:00:00Z)][(34):1:(46)][(-77):1:(-63)] ]. The valid characters are defined in RFC 7230 and RFC 3986\n\torg.apache.coyote.http11.Http11InputBuffer.parseRequestLine(Http11InputBuffer.java:470)\n\torg.apache.coyote.http11.Http11Processor.service(Http11Processor.java:268)\n\torg.apache.coyote.AbstractProcessorLight.process(AbstractProcessorLight.java:63)\n\torg.apache.coyote.AbstractProtocol$ConnectionHandler.process(AbstractProtocol.java:905)\n\torg.apache.tomcat.util.net.NioEndpoint$SocketProcessor.doRun(NioEndpoint.java:1746)\n\torg.apache.tomcat.util.net.SocketProcessorBase.run(SocketProcessorBase.java:52)\n\torg.apache.tomcat.util.threads.ThreadPoolExecutor.runWorker(ThreadPoolExecutor.java:1148)\n\torg.apache.tomcat.util.threads.ThreadPoolExecutor$Worker.run(ThreadPoolExecutor.java:636)\n\torg.apache.tomcat.util.threads.TaskThread$WrappingRunnable.run(TaskThread.java:63)\n\tjava.base&#47;java.lang.Thread.run(Thread.java:1583)\n</pre><p><b>Note</b> The full stack trace of the root cause is available in the server logs.</p><hr class=\"line\" /><h3>Apache Tomcat/11.0.2</h3></body></html>"
     ]
    }
   ],
   "source": [
    "ds = e.to_xarray()"
   ]
  },
  {
   "cell_type": "markdown",
   "id": "d05eb2ac-5e47-4380-a9d4-449dd619d81d",
   "metadata": {},
   "source": [
    "I THINK the error is caused by an incorrect URL... \n",
    "* The URL that the package is trying to pull from is: https://comet.nefsc.noaa.gov/erddap/griddap/occci_v6_daily_1km.nc?chlor_a[(2024-07-01T00:00:00Z):1:(2024-07-10T00:00:00Z)][(34):1:(46)][(-77):1:(-63)]\n",
    "<br>\n",
    "\n",
    "* A working link (created in the ERDDAP webpage) is: https://comet.nefsc.noaa.gov/erddap/griddap/occci_v6_daily_1km.nc?chlor_a%5B(2024-07-01T00:00:00Z):1:(2024-07-10T00:00:00Z)%5D%5B(34):1:(46)%5D%5B(-77):1:(-63)%5D\n",
    "\n",
    "<br>\n",
    "I've tested several other erddaps with the same results"
   ]
  },
  {
   "cell_type": "code",
   "execution_count": null,
   "id": "1482e21f-69f6-42ac-a506-8babddfeea9a",
   "metadata": {},
   "outputs": [],
   "source": []
  }
 ],
 "metadata": {
  "kernelspec": {
   "display_name": "Python 3 (ipykernel)",
   "language": "python",
   "name": "python3"
  },
  "language_info": {
   "codemirror_mode": {
    "name": "ipython",
    "version": 3
   },
   "file_extension": ".py",
   "mimetype": "text/x-python",
   "name": "python",
   "nbconvert_exporter": "python",
   "pygments_lexer": "ipython3",
   "version": "3.11.7"
  }
 },
 "nbformat": 4,
 "nbformat_minor": 5
}
